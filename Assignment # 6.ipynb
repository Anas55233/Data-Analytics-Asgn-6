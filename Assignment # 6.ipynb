{
 "cells": [
  {
   "cell_type": "markdown",
   "id": "a9e04c38-986d-497d-92aa-cd84afd5fa38",
   "metadata": {},
   "source": [
    "# Assignment No. 6"
   ]
  },
  {
   "cell_type": "markdown",
   "id": "6633e5a2-bec4-4ecb-b7a5-9ca49f57c08c",
   "metadata": {},
   "source": [
    "### Anas Sohail"
   ]
  },
  {
   "cell_type": "code",
   "execution_count": 53,
   "id": "c88c866c-f56f-4860-afcf-ebace0d2e1a7",
   "metadata": {},
   "outputs": [
    {
     "name": "stdout",
     "output_type": "stream",
     "text": [
      "Method # 1\n",
      "\n"
     ]
    },
    {
     "name": "stdin",
     "output_type": "stream",
     "text": [
      "Enter Number of lines:  5\n"
     ]
    },
    {
     "name": "stdout",
     "output_type": "stream",
     "text": [
      "*  \n",
      "*  *  \n",
      "*  *  *  \n",
      "*  *  *  *  \n",
      "*  *  *  *  *  \n",
      "*  *  *  *  \n",
      "*  *  *  \n",
      "*  *  \n",
      "*  \n",
      "Method # 2\n",
      "\n"
     ]
    },
    {
     "name": "stdin",
     "output_type": "stream",
     "text": [
      "Enter Number of lines:  5\n"
     ]
    },
    {
     "name": "stdout",
     "output_type": "stream",
     "text": [
      "*  \n",
      "*  *  \n",
      "*  *  *  \n",
      "*  *  *  *  \n",
      "*  *  *  *  *  \n",
      "*  *  *  *  \n",
      "*  *  *  \n",
      "*  *  \n",
      "*  \n"
     ]
    }
   ],
   "source": [
    "# 1. Write a Python program to construct the following pattern, using a nested for loop.\n",
    "\n",
    "# *\n",
    "# * *\n",
    "# * * *\n",
    "# * * * *\n",
    "# * * * * *\n",
    "# * * * *\n",
    "# * * *\n",
    "# * *\n",
    "# *\n",
    "\n",
    "\n",
    "# Method # 1\n",
    "print(\"Method # 1\")\n",
    "print()\n",
    "\n",
    "# Take input from user, max number of stars:\n",
    "max_num_pattern = int(input(\"Enter Number of lines: \"))\n",
    "\n",
    "#using outer for loop to give range:-\n",
    "for i in range(2 * max_num_pattern - 1):\n",
    "\n",
    "#Using Conditional Statement to determine the number of stars based on the current line number:\n",
    "    if i < max_num_pattern:\n",
    "        stars = i + 1\n",
    "    else:\n",
    "        stars = (2 * max_num_pattern - 1) - i\n",
    "\n",
    "# using inner loop to print asterics:\n",
    "    for j in range(stars):\n",
    "        print(\"*  \", end = \"\")\n",
    "    print()    \n",
    "\n",
    "\n",
    "\n",
    "# Method # 2\n",
    "print(\"Method # 2\")\n",
    "print()\n",
    "\n",
    "# Take input from user, number of patterns of stars:\n",
    "max_pattern = int(input(\"Enter Number of lines: \"))\n",
    "\n",
    "#Create vriable of number of lines\n",
    "number_of_lines = 2 * max_pattern - 1\n",
    "#using outer for loop to give range:-\n",
    "for i in range(number_of_lines):\n",
    "\n",
    "#Using Conditional Statement to determine the number of stars based on the current line number:\n",
    "    if i < max_pattern:\n",
    "        stars = i + 1\n",
    "    else:\n",
    "        stars = number_of_lines - i\n",
    "\n",
    "# using inner loop to print asterics:\n",
    "    for j in range(stars):\n",
    "        print(\"*  \", end = \"\")\n",
    "    print()    "
   ]
  },
  {
   "cell_type": "code",
   "execution_count": 54,
   "id": "17c59dc2-9a12-481c-a1fc-180e45b22ba4",
   "metadata": {},
   "outputs": [
    {
     "name": "stdin",
     "output_type": "stream",
     "text": [
      "Enter Alphabet:  e\n"
     ]
    },
    {
     "name": "stdout",
     "output_type": "stream",
     "text": [
      "The given value 'e' is a vowel\n"
     ]
    }
   ],
   "source": [
    "# 2. Write a Python program to check whether an alphabet which is given by user\n",
    "# in input prompt is a vowel or consonant.\n",
    "\n",
    "# Create vowel list:\n",
    "vowels_list = [\"a\", \"e\", \"i\", \"o\", \"u\"]\n",
    "\n",
    "# take input to check vowels4\n",
    "user_input = input(\"Enter Alphabet: \")\n",
    "\n",
    "# check whether user_input is in vowel_list or not:-\n",
    "if user_input in vowels_list:\n",
    "    print(f\"The given value '{user_input}' is a vowel\")\n",
    "else:\n",
    "    print(f\"The given value '{user_input}' is a consonant \")"
   ]
  },
  {
   "cell_type": "code",
   "execution_count": 55,
   "id": "c5b876db-d06b-4c9b-b587-cd8b87086566",
   "metadata": {},
   "outputs": [
    {
     "name": "stdout",
     "output_type": "stream",
     "text": [
      "Method # 1\n",
      "\n"
     ]
    },
    {
     "name": "stdin",
     "output_type": "stream",
     "text": [
      "Enter number to create multiplication table:  32\n",
      "Enter number of Iterations:  12\n"
     ]
    },
    {
     "name": "stdout",
     "output_type": "stream",
     "text": [
      "32 x 1 = 32\n",
      "32 x 2 = 64\n",
      "32 x 3 = 96\n",
      "32 x 4 = 128\n",
      "32 x 5 = 160\n",
      "32 x 6 = 192\n",
      "32 x 7 = 224\n",
      "32 x 8 = 256\n",
      "32 x 9 = 288\n",
      "32 x 10 = 320\n",
      "32 x 11 = 352\n",
      "32 x 12 = 384\n",
      "Method # 2\n",
      "\n"
     ]
    },
    {
     "name": "stdin",
     "output_type": "stream",
     "text": [
      "Enter number to create multiplication table:  23\n",
      "Enter Starting value of Iteration:  1\n",
      "Enter number of Iterations:  12\n"
     ]
    },
    {
     "name": "stdout",
     "output_type": "stream",
     "text": [
      "23 x 1 = 23\n",
      "23 x 2 = 46\n",
      "23 x 3 = 69\n",
      "23 x 4 = 92\n",
      "23 x 5 = 115\n",
      "23 x 6 = 138\n",
      "23 x 7 = 161\n",
      "23 x 8 = 184\n",
      "23 x 9 = 207\n",
      "23 x 10 = 230\n",
      "23 x 11 = 253\n",
      "23 x 12 = 276\n"
     ]
    }
   ],
   "source": [
    "# 3. Write a Python program to create the multiplication table (from 1 to 10)\n",
    "# of a number and the number will be given by user in input prompt.\n",
    "\n",
    "# Method # 1\n",
    "print(\"Method # 1\")\n",
    "print()\n",
    "\n",
    "input_num = int(input(\"Enter number to create multiplication table: \"))\n",
    "num_of_iteration = int(input(\"Enter number of Iterations: \"))\n",
    "for num in range(1, num_of_iteration + 1):\n",
    "    print(f\"{input_num} x {num} = {num * input_num}\")\n",
    "\n",
    "\n",
    "\n",
    "# Method # 2\n",
    "print(\"Method # 2\")\n",
    "print()\n",
    "\n",
    "input_num = int(input(\"Enter number to create multiplication table: \"))\n",
    "iterate_start = int(input(\"Enter Starting value of Iteration: \"))\n",
    "num_of_iteration = int(input(\"Enter number of Iterations: \"))\n",
    "\n",
    "while iterate_start <= num_of_iteration:\n",
    "    print(f\"{input_num} x {iterate_start} = {iterate_start * input_num}\")\n",
    "    iterate_start += 1"
   ]
  },
  {
   "cell_type": "code",
   "execution_count": 56,
   "id": "b8f6abf6-12c2-45f2-84db-06edcca7ecc6",
   "metadata": {},
   "outputs": [
    {
     "name": "stdin",
     "output_type": "stream",
     "text": [
      "Enter Guess Number:  6\n",
      "Enter User Input:  5\n"
     ]
    },
    {
     "name": "stdout",
     "output_type": "stream",
     "text": [
      "Try Again!\n"
     ]
    },
    {
     "name": "stdin",
     "output_type": "stream",
     "text": [
      "Enter User Input:  7\n"
     ]
    },
    {
     "name": "stdout",
     "output_type": "stream",
     "text": [
      "Try Again!\n"
     ]
    },
    {
     "name": "stdin",
     "output_type": "stream",
     "text": [
      "Enter User Input:  9\n"
     ]
    },
    {
     "name": "stdout",
     "output_type": "stream",
     "text": [
      "Try Again!\n"
     ]
    },
    {
     "name": "stdin",
     "output_type": "stream",
     "text": [
      "Enter User Input:  3\n"
     ]
    },
    {
     "name": "stdout",
     "output_type": "stream",
     "text": [
      "Try Again!\n"
     ]
    },
    {
     "name": "stdin",
     "output_type": "stream",
     "text": [
      "Enter User Input:  6\n"
     ]
    },
    {
     "name": "stdout",
     "output_type": "stream",
     "text": [
      "Well Guessed!\n"
     ]
    }
   ],
   "source": [
    "# 4. Write a Python program to guess a number between 1 and 9.Note : User is prompted to enter a guess.\n",
    "# If the user guesses wrong then the prompt appears again until the guess is correct, on successful guess,\n",
    "# user will get a \"Well guessed!\" message, and the program will exit.\n",
    "\n",
    "# Take guess number through user\n",
    "guess_number = int(input(\"Enter Guess Number: \"))\n",
    "\n",
    "# Use while loop to check whether guesss number == user_input:-\n",
    "while True:\n",
    "    user_input = int(input(\"Enter User Input: \"))\n",
    "    if user_input == guess_number:\n",
    "        print(\"Well Guessed!\")\n",
    "        break\n",
    "    else:\n",
    "        print(\"Try Again!\")\n"
   ]
  },
  {
   "cell_type": "code",
   "execution_count": 51,
   "id": "536c171d-010e-48ff-8ab9-12c83d5c3741",
   "metadata": {},
   "outputs": [
    {
     "name": "stdout",
     "output_type": "stream",
     "text": [
      "Method # 1\n",
      "\n",
      "Anas : 6.2, 70\n",
      "Ghulam : 5.9, 65\n",
      "Uzair : 6.0, 68\n",
      "\n",
      "Method # 2\n",
      "\n",
      "{'Anas': (6.2, 70), 'Ghulam': (5.9, 65), 'Uzair': (6.0, 68)}\n"
     ]
    }
   ],
   "source": [
    "# 5. Write a  Python program to filter the height and width of students, which are stored in a dictionary.\n",
    "# Original Dictionary:\n",
    "# {'Cierra Vega': (6.2, 70), 'Alden Cantrell': (5.9, 65), 'Kierra Gentry': (6.0, 68), 'Pierre Cox': (5.8, 66)}\n",
    "# Height > 6ft and Weight> 70kg:\n",
    "# {'Cierra Vega': (6.2, 70)}\n",
    "\n",
    "students = {\n",
    "    'Anas': (6.2, 70),\n",
    "    'Ghulam': (5.9, 65),\n",
    "    'Uzair': (6.0, 68),\n",
    "    'Ubaid': (5.8, 66)\n",
    "}\n",
    "\n",
    "# Method # 1\n",
    "print(\"Method # 1\")\n",
    "print()\n",
    "\n",
    "# Using for loop to run height & weight\n",
    "for name, (height, weight) in students.items():\n",
    "\n",
    "# using conditional statement to check specific height n weight\n",
    "    if height > 5.8 and weight > 64:\n",
    "        print(f\"{name} : {height}, {weight}\")\n",
    "\n",
    "\n",
    "\n",
    "# Method # 2\n",
    "print()\n",
    "print(\"Method # 2\")\n",
    "print()\n",
    "\n",
    "# Using Comprehensive Dict\n",
    "filtered_student = {name : (height, weight) for name, (height, weight) in students.items()\\\n",
    "                    if height > 5.8 and weight > 64}\n",
    "print(filtered_student)"
   ]
  },
  {
   "cell_type": "code",
   "execution_count": 40,
   "id": "8923969c-f299-4551-92b0-74d08f588b0c",
   "metadata": {},
   "outputs": [
    {
     "name": "stdout",
     "output_type": "stream",
     "text": [
      "{'C1': [10, 20, 30], 'C2': [20, 30, 40], 'C3': [12, 34]}\n",
      "{'C1': [], 'C2': [], 'C3': []}\n"
     ]
    }
   ],
   "source": [
    "# 6. A  Python dictionary contains List as a value. Write a Python program to clear the list values in the said dictionary.\n",
    "# Original Dictionary:\n",
    "# {'C1': [10, 20, 30], 'C2': [20, 30, 40], 'C3': [12, 34]}\n",
    "# Clear the list values in the said dictionary:\n",
    "# {'C1': [], 'C2': [], 'C3': []}\n",
    "\n",
    "\n",
    "# Create a dict named original_dict:-\n",
    "original_dict = {\n",
    "    'C1': [10, 20, 30],\n",
    "    'C2': [20, 30, 40],\n",
    "    'C3': [12, 34]\n",
    "}\n",
    "# print before clear list\n",
    "print(original_dict)\n",
    "\n",
    "# using for loop to clear list of keys\n",
    "for clr_value_of_keys in original_dict:\n",
    "    original_dict[clr_value_of_keys] = []\n",
    "\n",
    "# print after clear list\n",
    "print(original_dict)"
   ]
  },
  {
   "cell_type": "code",
   "execution_count": 45,
   "id": "59abd85e-6c91-4e01-9aee-cee8609e9b9f",
   "metadata": {},
   "outputs": [
    {
     "name": "stdout",
     "output_type": "stream",
     "text": [
      "The nile runs through egypt\n",
      "The amazon runs through north-america\n",
      "The yellow-river runs through china\n",
      "\n",
      "Name of river is: nile\n",
      "Name of river is: amazon\n",
      "Name of river is: yellow-river\n",
      "\n",
      "Name of country is: egypt\n",
      "Name of country is: north-america\n",
      "Name of country is: china\n"
     ]
    }
   ],
   "source": [
    "# 7.  Rivers: Make a dictionary containing three major rivers and the country\n",
    "# each river runs through. One key-value pair might be 'nile': 'egypt'.\n",
    "# • Use a loop to print a sentence about each river, such as The Nile runs\n",
    "# through Egypt.\n",
    "# • Use a loop to print the name of each river included in the dictionary.\n",
    "# • Use a loop to print the name of each country included in the dictionary.\n",
    "\n",
    "\n",
    "# Create a dict named Rivers:-\n",
    "Rivers = {\n",
    "    'nile' : 'egypt',\n",
    "    'amazon' : 'north-america',\n",
    "    'yellow-river' : 'china'\n",
    "}\n",
    "\n",
    "# using for loop to print message\n",
    "for river, country in Rivers.items():\n",
    "    print(f\"The {river} runs through {country}\")\n",
    "\n",
    "print()\n",
    "# using for loop to print Rivers keys\n",
    "for river in Rivers.keys():\n",
    "    print(f\"Name of river is: {river}\")\n",
    "\n",
    "\n",
    "print()\n",
    "# using for loop to print Rivers values\n",
    "for country in Rivers.values():\n",
    "    print(f\"Name of country is: {country}\")"
   ]
  },
  {
   "cell_type": "code",
   "execution_count": 50,
   "id": "a1dba791-78dd-484e-aa57-d98595871bc8",
   "metadata": {},
   "outputs": [
    {
     "name": "stdin",
     "output_type": "stream",
     "text": [
      "Enter your age:  5\n"
     ]
    },
    {
     "name": "stdout",
     "output_type": "stream",
     "text": [
      "The ticket price is $10 for children between the ages of 3 and 12.\n"
     ]
    },
    {
     "name": "stdin",
     "output_type": "stream",
     "text": [
      "Enter your age:  4\n"
     ]
    },
    {
     "name": "stdout",
     "output_type": "stream",
     "text": [
      "The ticket price is $10 for children between the ages of 3 and 12.\n"
     ]
    },
    {
     "name": "stdin",
     "output_type": "stream",
     "text": [
      "Enter your age:  6\n"
     ]
    },
    {
     "name": "stdout",
     "output_type": "stream",
     "text": [
      "The ticket price is $10 for children between the ages of 3 and 12.\n"
     ]
    },
    {
     "name": "stdin",
     "output_type": "stream",
     "text": [
      "Enter your age:  9\n"
     ]
    },
    {
     "name": "stdout",
     "output_type": "stream",
     "text": [
      "The ticket price is $10 for children between the ages of 3 and 12.\n"
     ]
    },
    {
     "name": "stdin",
     "output_type": "stream",
     "text": [
      "Enter your age:  13\n"
     ]
    },
    {
     "name": "stdout",
     "output_type": "stream",
     "text": [
      "The ticket price is $15 for individuals over the age of 12.\n"
     ]
    },
    {
     "name": "stdin",
     "output_type": "stream",
     "text": [
      "Enter your age:  -1\n"
     ]
    },
    {
     "name": "stdout",
     "output_type": "stream",
     "text": [
      "Exiting the ticket price calculator. Have a great day!\n"
     ]
    }
   ],
   "source": [
    "# 8. Movie Tickets: A movie theater charges different ticket prices depending on\n",
    "# a person’s age. If a person is under the age of 3, the ticket is free; if they are\n",
    "# between 3 and 12, the ticket is $10; and if they are over age 12, the ticket is\n",
    "# $15. Write a loop in which you ask users their age, and then tell them the cost\n",
    "# of their movie ticket.\n",
    "\n",
    "\n",
    "\n",
    "# Using while loop to tell ticket price through their ages\n",
    "while True:\n",
    "\n",
    "# Take input the user for their age\n",
    "    age = int(input(\"Enter your age: \"))\n",
    "\n",
    "# Check the ticket price based on age and print their ticket prices\n",
    "    if 0 <= age < 3:\n",
    "        price = 0\n",
    "        print(\"The ticket is free for children under the age of 3.\")\n",
    "        \n",
    "    elif 3 <= age <= 12:\n",
    "        price = 10\n",
    "        print(\"The ticket price is $10 for children between the ages of 3 and 12.\")\n",
    "        \n",
    "    elif age > 12:\n",
    "        price = 15\n",
    "        print(\"The ticket price is $15 for individuals over the age of 12.\")\n",
    "\n",
    "    else:\n",
    "        print(\"Exiting the ticket price calculator. Have a great day!\")\n",
    "        break"
   ]
  },
  {
   "cell_type": "code",
   "execution_count": null,
   "id": "25bd704a-eeef-46fb-8815-dd8fa3efd1ed",
   "metadata": {},
   "outputs": [],
   "source": []
  }
 ],
 "metadata": {
  "kernelspec": {
   "display_name": "Python 3 (ipykernel)",
   "language": "python",
   "name": "python3"
  },
  "language_info": {
   "codemirror_mode": {
    "name": "ipython",
    "version": 3
   },
   "file_extension": ".py",
   "mimetype": "text/x-python",
   "name": "python",
   "nbconvert_exporter": "python",
   "pygments_lexer": "ipython3",
   "version": "3.12.4"
  }
 },
 "nbformat": 4,
 "nbformat_minor": 5
}
