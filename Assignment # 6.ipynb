{
 "cells": [
  {
   "cell_type": "markdown",
   "id": "3063390c-2832-4cb2-ba71-ac2b431355ec",
   "metadata": {},
   "source": [
    "# Assignment No. 6"
   ]
  },
  {
   "cell_type": "markdown",
   "id": "ad0d0af2-8acf-4fb2-9296-db70f50694d4",
   "metadata": {},
   "source": [
    "### Anas Sohail"
   ]
  },
  {
   "cell_type": "code",
   "execution_count": null,
   "id": "7f30cb14-1046-4a69-b1d6-7ddff173e33a",
   "metadata": {},
   "outputs": [],
   "source": []
  }
 ],
 "metadata": {
  "kernelspec": {
   "display_name": "Python 3 (ipykernel)",
   "language": "python",
   "name": "python3"
  },
  "language_info": {
   "codemirror_mode": {
    "name": "ipython",
    "version": 3
   },
   "file_extension": ".py",
   "mimetype": "text/x-python",
   "name": "python",
   "nbconvert_exporter": "python",
   "pygments_lexer": "ipython3",
   "version": "3.12.4"
  }
 },
 "nbformat": 4,
 "nbformat_minor": 5
}
