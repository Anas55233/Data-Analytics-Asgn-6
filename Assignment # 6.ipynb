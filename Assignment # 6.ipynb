{
 "cells": [
  {
   "cell_type": "markdown",
   "id": "a9e04c38-986d-497d-92aa-cd84afd5fa38",
   "metadata": {},
   "source": [
    "# Assignment No. 6"
   ]
  },
  {
   "cell_type": "markdown",
   "id": "6633e5a2-bec4-4ecb-b7a5-9ca49f57c08c",
   "metadata": {},
   "source": [
    "### Anas Sohail"
   ]
  },
  {
   "cell_type": "code",
   "execution_count": 1,
   "id": "c88c866c-f56f-4860-afcf-ebace0d2e1a7",
   "metadata": {},
   "outputs": [
    {
     "name": "stdout",
     "output_type": "stream",
     "text": [
      "Method # 1\n",
      "\n"
     ]
    },
    {
     "name": "stdin",
     "output_type": "stream",
     "text": [
      "Enter Number of lines:  5\n"
     ]
    },
    {
     "name": "stdout",
     "output_type": "stream",
     "text": [
      "*  \n",
      "*  *  \n",
      "*  *  *  \n",
      "*  *  *  *  \n",
      "*  *  *  *  *  \n",
      "*  *  *  *  \n",
      "*  *  *  \n",
      "*  *  \n",
      "*  \n",
      "Method # 2\n",
      "\n"
     ]
    },
    {
     "name": "stdin",
     "output_type": "stream",
     "text": [
      "Enter Number of lines:  5\n"
     ]
    },
    {
     "name": "stdout",
     "output_type": "stream",
     "text": [
      "*  \n",
      "*  *  \n",
      "*  *  *  \n",
      "*  *  *  *  \n",
      "*  *  *  *  *  \n",
      "*  *  *  *  \n",
      "*  *  *  \n",
      "*  *  \n",
      "*  \n"
     ]
    }
   ],
   "source": [
    "# 1. Write a Python program to construct the following pattern, using a nested for loop.\n",
    "\n",
    "# *\n",
    "# * *\n",
    "# * * *\n",
    "# * * * *\n",
    "# * * * * *\n",
    "# * * * *\n",
    "# * * *\n",
    "# * *\n",
    "# *\n",
    "\n",
    "\n",
    "# Method # 1\n",
    "print(\"Method # 1\")\n",
    "print()\n",
    "\n",
    "# Take input from user, number of lines of stars:\n",
    "number_of_lines = int(input(\"Enter Number of lines: \"))\n",
    "\n",
    "#using outer for loop to give range:-\n",
    "for i in range(2 * number_of_lines - 1):\n",
    "\n",
    "#Using Conditional Statement to determine the number of stars based on the current line number:\n",
    "    if i < number_of_lines:\n",
    "        stars = i + 1\n",
    "    else:\n",
    "        stars = (2 * number_of_lines) - i - 1\n",
    "\n",
    "# using inner loop to print asterics:\n",
    "    for j in range(stars):\n",
    "        print(\"*  \", end = \"\")\n",
    "    print()    \n",
    "\n",
    "\n",
    "\n",
    "# Method # 2\n",
    "print(\"Method # 2\")\n",
    "print()\n",
    "\n",
    "# Take input from user, number of patterns of stars:\n",
    "max_pattern = int(input(\"Enter Number of lines: \"))\n",
    "\n",
    "#Create vriable of number of lines\n",
    "number_of_lines = 2 * max_pattern - 1\n",
    "#using outer for loop to give range:-\n",
    "for i in range(number_of_lines):\n",
    "\n",
    "#Using Conditional Statement to determine the number of stars based on the current line number:\n",
    "    if i < max_pattern:\n",
    "        stars = i + 1\n",
    "    else:\n",
    "        stars = number_of_lines - i\n",
    "\n",
    "# using inner loop to print asterics:\n",
    "    for j in range(stars):\n",
    "        print(\"*  \", end = \"\")\n",
    "    print()    "
   ]
  },
  {
   "cell_type": "code",
   "execution_count": 3,
   "id": "17c59dc2-9a12-481c-a1fc-180e45b22ba4",
   "metadata": {},
   "outputs": [
    {
     "name": "stdin",
     "output_type": "stream",
     "text": [
      "Enter Alphabet:  e\n"
     ]
    },
    {
     "name": "stdout",
     "output_type": "stream",
     "text": [
      "The given value 'e' is a vowel\n"
     ]
    }
   ],
   "source": [
    "# 2. Write a Python program to check whether an alphabet which is given by user\n",
    "# in input prompt is a vowel or consonant.\n",
    "\n",
    "vowels_list = [\"a\", \"e\", \"i\", \"o\", \"u\"]\n",
    "user_input = input(\"Enter Alphabet: \")\n",
    "if user_input in vowels_list:\n",
    "    print(f\"The given value '{user_input}' is a vowel\")\n",
    "else:\n",
    "    print(f\"The given value '{user_input}' is a consonant \")"
   ]
  },
  {
   "cell_type": "code",
   "execution_count": 8,
   "id": "c5b876db-d06b-4c9b-b587-cd8b87086566",
   "metadata": {},
   "outputs": [
    {
     "name": "stdout",
     "output_type": "stream",
     "text": [
      "Mehod # 1\n",
      "\n"
     ]
    },
    {
     "name": "stdin",
     "output_type": "stream",
     "text": [
      "Enter number to create multiplication table:  40\n",
      "Enter number of Iterations:  10\n"
     ]
    },
    {
     "name": "stdout",
     "output_type": "stream",
     "text": [
      "40 x 1 = 40\n",
      "40 x 2 = 80\n",
      "40 x 3 = 120\n",
      "40 x 4 = 160\n",
      "40 x 5 = 200\n",
      "40 x 6 = 240\n",
      "40 x 7 = 280\n",
      "40 x 8 = 320\n",
      "40 x 9 = 360\n",
      "40 x 10 = 400\n",
      "Mehod # 2\n",
      "\n"
     ]
    },
    {
     "name": "stdin",
     "output_type": "stream",
     "text": [
      "Enter number to create multiplication table:  32\n",
      "Enter Starting value of Iteration:  2\n",
      "Enter number of Iterations:  18\n"
     ]
    },
    {
     "name": "stdout",
     "output_type": "stream",
     "text": [
      "32 x 2 = 64\n",
      "32 x 3 = 96\n",
      "32 x 4 = 128\n",
      "32 x 5 = 160\n",
      "32 x 6 = 192\n",
      "32 x 7 = 224\n",
      "32 x 8 = 256\n",
      "32 x 9 = 288\n",
      "32 x 10 = 320\n",
      "32 x 11 = 352\n",
      "32 x 12 = 384\n",
      "32 x 13 = 416\n",
      "32 x 14 = 448\n",
      "32 x 15 = 480\n",
      "32 x 16 = 512\n",
      "32 x 17 = 544\n",
      "32 x 18 = 576\n"
     ]
    }
   ],
   "source": [
    "# 3. Write a Python program to create the multiplication table (from 1 to 10)\n",
    "# of a number and the number will be given by user in input prompt.\n",
    "\n",
    "# Method # 1\n",
    "print(\"Method # 1\")\n",
    "print()\n",
    "\n",
    "input_num = int(input(\"Enter number to create multiplication table: \"))\n",
    "num_of_iteration = int(input(\"Enter number of Iterations: \"))\n",
    "for num in range(1, num_of_iteration + 1):\n",
    "    print(f\"{input_num} x {num} = {num * input_num}\")\n",
    "\n",
    "\n",
    "\n",
    "# Method # 2\n",
    "print(\"Method # 2\")\n",
    "print()\n",
    "\n",
    "input_num = int(input(\"Enter number to create multiplication table: \"))\n",
    "iterate_start = int(input(\"Enter Starting value of Iteration: \"))\n",
    "num_of_iteration = int(input(\"Enter number of Iterations: \"))\n",
    "\n",
    "while iterate_start <= num_of_iteration:\n",
    "    print(f\"{input_num} x {iterate_start} = {iterate_start * input_num}\")\n",
    "    iterate_start += 1"
   ]
  },
  {
   "cell_type": "code",
   "execution_count": 18,
   "id": "b8f6abf6-12c2-45f2-84db-06edcca7ecc6",
   "metadata": {},
   "outputs": [
    {
     "name": "stdin",
     "output_type": "stream",
     "text": [
      "Enter Guess Number:  8\n",
      "Enter User Input:  5\n"
     ]
    },
    {
     "name": "stdout",
     "output_type": "stream",
     "text": [
      "Try Again!\n"
     ]
    },
    {
     "name": "stdin",
     "output_type": "stream",
     "text": [
      "Enter User Input:  9\n"
     ]
    },
    {
     "name": "stdout",
     "output_type": "stream",
     "text": [
      "Try Again!\n"
     ]
    },
    {
     "name": "stdin",
     "output_type": "stream",
     "text": [
      "Enter User Input:  4\n"
     ]
    },
    {
     "name": "stdout",
     "output_type": "stream",
     "text": [
      "Try Again!\n"
     ]
    },
    {
     "name": "stdin",
     "output_type": "stream",
     "text": [
      "Enter User Input:  2\n"
     ]
    },
    {
     "name": "stdout",
     "output_type": "stream",
     "text": [
      "Try Again!\n"
     ]
    },
    {
     "name": "stdin",
     "output_type": "stream",
     "text": [
      "Enter User Input:  8\n"
     ]
    },
    {
     "name": "stdout",
     "output_type": "stream",
     "text": [
      "Well Guessed!\n"
     ]
    }
   ],
   "source": [
    "# 4. Write a Python program to guess a number between 1 and 9.Note : User is prompted to enter a guess.\n",
    "# If the user guesses wrong then the prompt appears again until the guess is correct, on successful guess,\n",
    "# user will get a \"Well guessed!\" message, and the program will exit.\n",
    "\n",
    "guess_number = int(input(\"Enter Guess Number: \"))\n",
    "while True:\n",
    "    user_input = int(input(\"Enter User Input: \"))\n",
    "    if user_input == guess_number:\n",
    "        print(\"Well Guessed!\")\n",
    "        break\n",
    "    else:\n",
    "        print(\"Try Again!\")\n"
   ]
  },
  {
   "cell_type": "code",
   "execution_count": 24,
   "id": "536c171d-010e-48ff-8ab9-12c83d5c3741",
   "metadata": {},
   "outputs": [
    {
     "name": "stdout",
     "output_type": "stream",
     "text": [
      "Mehod # 1\n",
      "\n",
      "Anas : 6.2, 70\n",
      "Ghulam : 5.9, 65\n",
      "Uzair : 6.0, 68\n",
      "\n",
      "Mehod # 2\n",
      "\n",
      "{'Anas': (6.2, 70), 'Ghulam': (5.9, 65), 'Uzair': (6.0, 68)}\n"
     ]
    }
   ],
   "source": [
    "# 5. Write a  Python program to filter the height and width of students, which are stored in a dictionary.\n",
    "# Original Dictionary:\n",
    "# {'Cierra Vega': (6.2, 70), 'Alden Cantrell': (5.9, 65), 'Kierra Gentry': (6.0, 68), 'Pierre Cox': (5.8, 66)}\n",
    "# Height > 6ft and Weight> 70kg:\n",
    "# {'Cierra Vega': (6.2, 70)}\n",
    "\n",
    "students = {\n",
    "    'Anas': (6.2, 70),\n",
    "    'Ghulam': (5.9, 65),\n",
    "    'Uzair': (6.0, 68),\n",
    "    'Ubaid': (5.8, 66)\n",
    "}\n",
    "\n",
    "# Method # 1\n",
    "print(\"Method # 1\")\n",
    "print()\n",
    "for name, (height, wieght) in students.items():\n",
    "    if height > 5.8 and wieght > 64:\n",
    "        print(f\"{name} : {height}, {wieght}\")\n",
    "\n",
    "\n",
    "\n",
    "# Method # 2\n",
    "print()\n",
    "print(\"Method # 2\")\n",
    "print()\n",
    "\n",
    "filtered_student = {name : (height, wieght) for name, (height, wieght) in students.items()\\\n",
    "                    if height > 5.8 and wieght > 64}\n",
    "print(filtered_student)"
   ]
  },
  {
   "cell_type": "code",
   "execution_count": 40,
   "id": "8923969c-f299-4551-92b0-74d08f588b0c",
   "metadata": {},
   "outputs": [
    {
     "name": "stdout",
     "output_type": "stream",
     "text": [
      "{'C1': [10, 20, 30], 'C2': [20, 30, 40], 'C3': [12, 34]}\n",
      "{'C1': [], 'C2': [], 'C3': []}\n"
     ]
    }
   ],
   "source": [
    "# 6. A  Python dictionary contains List as a value. Write a Python program to clear the list values in the said dictionary.\n",
    "# Original Dictionary:\n",
    "# {'C1': [10, 20, 30], 'C2': [20, 30, 40], 'C3': [12, 34]}\n",
    "# Clear the list values in the said dictionary:\n",
    "# {'C1': [], 'C2': [], 'C3': []}\n",
    "\n",
    "\n",
    "original_dict = {\n",
    "    'C1': [10, 20, 30],\n",
    "    'C2': [20, 30, 40],\n",
    "    'C3': [12, 34]\n",
    "}\n",
    "print(original_dict)\n",
    "for clr_value_of_keys in original_dict:\n",
    "    original_dict[clr_value_of_keys] = []\n",
    "\n",
    "print(original_dict)"
   ]
  },
  {
   "cell_type": "code",
   "execution_count": 45,
   "id": "59abd85e-6c91-4e01-9aee-cee8609e9b9f",
   "metadata": {},
   "outputs": [
    {
     "name": "stdout",
     "output_type": "stream",
     "text": [
      "The nile runs through egypt\n",
      "The amazon runs through north-america\n",
      "The yellow-river runs through china\n",
      "\n",
      "Name of river is: nile\n",
      "Name of river is: amazon\n",
      "Name of river is: yellow-river\n",
      "\n",
      "Name of country is: egypt\n",
      "Name of country is: north-america\n",
      "Name of country is: china\n"
     ]
    }
   ],
   "source": [
    "# 7.  Rivers: Make a dictionary containing three major rivers and the country\n",
    "# each river runs through. One key-value pair might be 'nile': 'egypt'.\n",
    "# • Use a loop to print a sentence about each river, such as The Nile runs\n",
    "# through Egypt.\n",
    "# • Use a loop to print the name of each river included in the dictionary.\n",
    "# • Use a loop to print the name of each country included in the dictionary.\n",
    "\n",
    "Rivers = {\n",
    "    'nile' : 'egypt',\n",
    "    'amazon' : 'north-america',\n",
    "    'yellow-river' : 'china'\n",
    "}\n",
    "\n",
    "for river, country in Rivers.items():\n",
    "    print(f\"The {river} runs through {country}\")\n",
    "\n",
    "print()\n",
    "for river in Rivers.keys():\n",
    "    print(f\"Name of river is: {river}\")\n",
    "\n",
    "\n",
    "print()\n",
    "for country in Rivers.values():\n",
    "    print(f\"Name of country is: {country}\")"
   ]
  },
  {
   "cell_type": "code",
   "execution_count": null,
   "id": "a1dba791-78dd-484e-aa57-d98595871bc8",
   "metadata": {},
   "outputs": [],
   "source": []
  }
 ],
 "metadata": {
  "kernelspec": {
   "display_name": "Python 3 (ipykernel)",
   "language": "python",
   "name": "python3"
  },
  "language_info": {
   "codemirror_mode": {
    "name": "ipython",
    "version": 3
   },
   "file_extension": ".py",
   "mimetype": "text/x-python",
   "name": "python",
   "nbconvert_exporter": "python",
   "pygments_lexer": "ipython3",
   "version": "3.12.4"
  }
 },
 "nbformat": 4,
 "nbformat_minor": 5
}
